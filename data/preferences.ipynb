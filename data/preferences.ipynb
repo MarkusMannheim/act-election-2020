{
 "cells": [
  {
   "cell_type": "code",
   "execution_count": 1,
   "metadata": {},
   "outputs": [],
   "source": [
    "import pandas as pd\n",
    "\n",
    "electorates = [\"brindabella\", \"ginninderra\", \"kurrajong\", \"murrumbidgee\", \"yerrabi\"]\n",
    "final_df = pd.DataFrame()\n",
    "\n",
    "for i, electorate in enumerate(electorates):\n",
    "    data = pd.read_excel(f\"https://www.elections.act.gov.au/elections_and_voting/2020_legislative_assembly_election/distribution-of-preferences-2020/table2_{electorate}.xlsx\")\n",
    "    quota = data.columns[list(data.columns).index(\"Quota = \") + 1]\n",
    "    electorates[i] = [electorate, quota]\n",
    "\n",
    "    data = pd.read_excel(f\"https://www.elections.act.gov.au/elections_and_voting/2020_legislative_assembly_election/distribution-of-preferences-2020/table2_{electorate}.xlsx\", header=1).T.iloc[1:]\n",
    "    candidates = data[0].dropna().apply(lambda x: x.strip())\n",
    "    rawParties = candidates.index\n",
    "    candidates = list(candidates)\n",
    "    parties = []\n",
    "    party = 0\n",
    "    for index, candidate in enumerate(candidates):\n",
    "        if \"Unnamed\" not in rawParties[index]:\n",
    "            party = index\n",
    "        parties.append(rawParties[party])\n",
    "    df = pd.DataFrame(data=parties, index=candidates, columns=[\"party\"])\n",
    "    df.index.name = \"candidate\"\n",
    "    df.loc[\"exhausted\"] = \"nan\"\n",
    "    df.loc[\"comment\"] = \"nan\"\n",
    "    results = []\n",
    "    data.set_index(0, inplace=True)\n",
    "    new_index = []\n",
    "    for indice in list(data.index):\n",
    "        if indice == indice:\n",
    "            new_index.append(indice.strip())\n",
    "        else:\n",
    "            new_index.append(indice)\n",
    "    data.index = new_index\n",
    "\n",
    "    for candidate in candidates + [\"exhausted\", \"comment\"]:\n",
    "        array = []\n",
    "        for j, column in enumerate(data.columns):\n",
    "            if data.iloc[-2, j] == data.iloc[-2, j]:\n",
    "                if candidate not in [\"exhausted\", \"comment\"]:\n",
    "                    array.append(data.loc[candidate, column])                \n",
    "                elif candidate == \"exhausted\":\n",
    "                    array.append(data.iloc[-4, j])\n",
    "                elif candidate == \"comment\":\n",
    "                    array.append(data.iloc[-1, j])\n",
    "        results.append(array)\n",
    "    df[\"counts\"] = results\n",
    "    df[\"electorate\"] = len(df) * [electorate]\n",
    "    final_df = pd.concat([final_df, df])\n",
    "final_df.to_csv(\"preferences.csv\")\n",
    "e_df = pd.DataFrame(electorates)\n",
    "e_df.columns = [\"electorate\", \"quota\"]\n",
    "e_df.to_csv(\"electorates.csv\", index=False)"
   ]
  },
  {
   "cell_type": "code",
   "execution_count": null,
   "metadata": {},
   "outputs": [],
   "source": []
  }
 ],
 "metadata": {
  "kernelspec": {
   "display_name": "Python 3",
   "language": "python",
   "name": "python3"
  },
  "language_info": {
   "codemirror_mode": {
    "name": "ipython",
    "version": 3
   },
   "file_extension": ".py",
   "mimetype": "text/x-python",
   "name": "python",
   "nbconvert_exporter": "python",
   "pygments_lexer": "ipython3",
   "version": "3.8.5"
  }
 },
 "nbformat": 4,
 "nbformat_minor": 4
}
